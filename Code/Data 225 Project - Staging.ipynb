{
 "cells": [
  {
   "cell_type": "code",
   "execution_count": 3,
   "metadata": {},
   "outputs": [],
   "source": [
    "import mysql.connector\n",
    "import pandas as pd\n",
    "import numpy as np\n",
    "db=mysql.connector.connect(\n",
    "    host='localhost',\n",
    "    user='root',\n",
    "    passwd='admin12345'\n",
    "    )\n",
    "\n",
    "mycursor=db.cursor()\n"
   ]
  },
  {
   "cell_type": "code",
   "execution_count": 5,
   "metadata": {},
   "outputs": [],
   "source": [
    "#Creating a new database\n",
    "mycursor.execute(\"CREATE DATABASE Data225_final_project\")\n",
    "\n",
    "db=mysql.connector.connect(\n",
    "    host='localhost',\n",
    "    user='root',\n",
    "    passwd='admin12345',\n",
    "    database='Data225_final_project')\n",
    "\n",
    "mycursor=db.cursor()"
   ]
  },
  {
   "cell_type": "code",
   "execution_count": 4,
   "metadata": {},
   "outputs": [
    {
     "data": {
      "text/html": [
       "<div>\n",
       "<style scoped>\n",
       "    .dataframe tbody tr th:only-of-type {\n",
       "        vertical-align: middle;\n",
       "    }\n",
       "\n",
       "    .dataframe tbody tr th {\n",
       "        vertical-align: top;\n",
       "    }\n",
       "\n",
       "    .dataframe thead th {\n",
       "        text-align: right;\n",
       "    }\n",
       "</style>\n",
       "<table border=\"1\" class=\"dataframe\">\n",
       "  <thead>\n",
       "    <tr style=\"text-align: right;\">\n",
       "      <th></th>\n",
       "      <th>time_zone_1</th>\n",
       "      <th>time_zone_2</th>\n",
       "      <th>min_diff</th>\n",
       "    </tr>\n",
       "  </thead>\n",
       "  <tbody>\n",
       "    <tr>\n",
       "      <th>0</th>\n",
       "      <td>Central Time Zone</td>\n",
       "      <td>Hawaii-Aleutian Time Zone</td>\n",
       "      <td>4</td>\n",
       "    </tr>\n",
       "    <tr>\n",
       "      <th>1</th>\n",
       "      <td>Central Time Zone</td>\n",
       "      <td>Alaska Time Zone</td>\n",
       "      <td>3</td>\n",
       "    </tr>\n",
       "    <tr>\n",
       "      <th>2</th>\n",
       "      <td>Central Time Zone</td>\n",
       "      <td>Mountain Time Zone</td>\n",
       "      <td>1</td>\n",
       "    </tr>\n",
       "    <tr>\n",
       "      <th>3</th>\n",
       "      <td>Central Time Zone</td>\n",
       "      <td>Eastern Time Zone</td>\n",
       "      <td>1</td>\n",
       "    </tr>\n",
       "    <tr>\n",
       "      <th>4</th>\n",
       "      <td>Central Time Zone</td>\n",
       "      <td>Pacific Time Zone</td>\n",
       "      <td>2</td>\n",
       "    </tr>\n",
       "  </tbody>\n",
       "</table>\n",
       "</div>"
      ],
      "text/plain": [
       "         time_zone_1                time_zone_2  min_diff\n",
       "0  Central Time Zone  Hawaii-Aleutian Time Zone         4\n",
       "1  Central Time Zone           Alaska Time Zone         3\n",
       "2  Central Time Zone         Mountain Time Zone         1\n",
       "3  Central Time Zone          Eastern Time Zone         1\n",
       "4  Central Time Zone          Pacific Time Zone         2"
      ]
     },
     "execution_count": 4,
     "metadata": {},
     "output_type": "execute_result"
    }
   ],
   "source": [
    "# # ##Reading of CSV file##\n",
    "\n",
    "Customer_Detail=pd.read_csv(r'/Users/himantgoyal/Downloads/assignments/Data 225 Assignments/DB Project/Customer_Detail.csv', index_col=False, delimiter=',')\n",
    "Customer_Detail.fillna(' ', inplace=True)\n",
    "\n",
    "Customeraccount=pd.read_csv(r'/Users/himantgoyal/Downloads/assignments/Data 225 Assignments/DB Project/Customer_Account.csv', index_col=False, delimiter=',')\n",
    "Customeraccount.fillna(' ', inplace=True)\n",
    "\n",
    "Customeraddress=pd.read_csv(r'/Users/himantgoyal/Downloads/assignments/Data 225 Assignments/DB Project/Customer_Address.csv', index_col=False, delimiter=',')\n",
    "Customeraddress.fillna(' ', inplace=True)\n",
    "\n",
    "Customercard=pd.read_csv(r'/Users/himantgoyal/Downloads/assignments/Data 225 Assignments/DB Project/Customer_Card.csv', index_col=False, delimiter=',')\n",
    "Customercard.fillna(' ', inplace=True)\n",
    "\n",
    "Customerdisp=pd.read_csv(r'/Users/himantgoyal/Downloads/assignments/Data 225 Assignments/DB Project/Customer_Disposition.csv', index_col=False, delimiter=',')\n",
    "Customerdisp.fillna(' ', inplace=True)\n",
    "\n",
    "Customerdistrict=pd.read_csv(r'/Users/himantgoyal/Downloads/assignments/Data 225 Assignments/DB Project/Customer_District_data.csv', index_col=False, delimiter=',')\n",
    "Customerdistrict.fillna(' ', inplace=True)\n",
    "\n",
    "\n",
    "Customerloan=pd.read_csv(r'/Users/himantgoyal/Downloads/assignments/Data 225 Assignments/DB Project/Customer_Loan.csv', index_col=False, delimiter=',')\n",
    "Customerloan.fillna(' ', inplace=True)\n",
    "\n",
    "Customerorder=pd.read_csv(r'/Users/himantgoyal/Downloads/assignments/Data 225 Assignments/DB Project/Customer_Order.csv', index_col=False, delimiter=',')\n",
    "Customerorder.fillna(' ', inplace=True)\n",
    "\n",
    "Customertransaction=pd.read_csv(r'/Users/himantgoyal/Downloads/assignments/Data 225 Assignments/DB Project/Customer_Transaction.csv', index_col=False, delimiter=',')\n",
    "Customertransaction.fillna(' ', inplace=True)\n",
    "\n",
    "TimeZone=pd.read_csv(r'/Users/himantgoyal/Downloads/assignments/Data 225 Assignments/DB Project/TimeZonee.csv', index_col=False, delimiter=',')\n",
    "TimeZone.head()\n",
    "\n",
    "Time_Diff=pd.read_csv(r'/Users/himantgoyal/Downloads/assignments/Data 225 Assignments/DB Project/time_difference.csv', index_col=False, error_bad_lines=False, delimiter=',')\n",
    "Time_Diff.head()"
   ]
  },
  {
   "cell_type": "code",
   "execution_count": 106,
   "metadata": {},
   "outputs": [],
   "source": [
    "# #Creating and Inserting into Table CustomerDetails ##\n",
    "mycursor.execute(\"\"\"CREATE TABLE Data225_final_project.CustomerDetails (Clientid char(15) primary key, Sex varchar(15),\n",
    "                 fulldate varchar(10), day varchar(2), month varchar(2), year varchar(4), \n",
    "                 age int, social char(15), FirstName varchar(50),  middlename varchar(50),\n",
    "                    LastName varchar(50), Phone char(15), Email char(100))\"\"\")\n",
    "\n",
    "db_query = \"\"\" INSERT INTO Data225_final_project.CustomerDetails\n",
    "                  VALUES (%s, %s, %s, %s, %s, %s, %s, %s, %s, %s, %s, %s, %s) \"\"\"\n",
    "for i, row in Customer_Detail.iterrows(): \n",
    "#    print(row)\n",
    "    mycursor.execute(db_query, tuple(row))\n",
    "db.commit();"
   ]
  },
  {
   "cell_type": "code",
   "execution_count": 73,
   "metadata": {},
   "outputs": [],
   "source": [
    "mycursor.execute('CREATE TABLE Data225_final_project.Customer_Account (AccountID char(20) primary key, DistrictID int, Frequency varchar(50), parseddate char(20), Year int, month int, Day int)')\n",
    "\n",
    "for i, row in Customeraccount.iterrows():\n",
    "    sql='INSERT INTO Data225_final_project.Customer_Account VALUES (%s,%s,%s,%s,%s,%s,%s)'\n",
    "    mycursor.execute(sql,tuple(row))\n",
    "\n",
    "db.commit()"
   ]
  },
  {
   "cell_type": "code",
   "execution_count": 80,
   "metadata": {},
   "outputs": [],
   "source": [
    "mycursor.execute('CREATE TABLE Data225_final_project.Customer_Address (Clientid char(15) primary key, DistrictID int, Address_1 char(100), Address_2 char(100), City varchar(30), State varchar(5), Zipcode int)')\n",
    "for i, row in Customeraddress.iterrows():\n",
    "    sql='INSERT INTO Data225_final_project.Customer_Address VALUES (%s,%s,%s,%s,%s,%s,%s)'\n",
    "    mycursor.execute(sql,tuple(row))\n",
    "    db.commit()\n",
    "\n",
    "#db.commit()"
   ]
  },
  {
   "cell_type": "code",
   "execution_count": 84,
   "metadata": {},
   "outputs": [],
   "source": [
    "mycursor.execute('CREATE TABLE Data225_final_project.Customer_card (card_id char(20) primary key, disp_id char(30), Type varchar(50),year char(6), month char(4), day char(3), Fulldate char(25))')\n",
    "for i, row in Customercard.iterrows():\n",
    "    sql='INSERT INTO Data225_final_project.Customer_card VALUES (%s,%s,%s,%s,%s,%s,%s)'\n",
    "    mycursor.execute(sql,tuple(row))\n",
    "\n",
    "db.commit()"
   ]
  },
  {
   "cell_type": "code",
   "execution_count": 87,
   "metadata": {},
   "outputs": [],
   "source": [
    "mycursor.execute('CREATE TABLE Data225_final_project.Customer_Disposition (DispID char(30), Clientid char(15), AccountID char(20), Type varchar(30))')\n",
    "for i, row in Customerdisp.iterrows():\n",
    "    sql='INSERT INTO Data225_final_project.Customer_Disposition VALUES (%s,%s,%s,%s)'\n",
    "    mycursor.execute(sql,tuple(row))\n",
    "\n",
    "db.commit()"
   ]
  },
  {
   "cell_type": "code",
   "execution_count": 89,
   "metadata": {},
   "outputs": [],
   "source": [
    "mycursor.execute('CREATE TABLE Data225_final_project.Customer_District (DistrictID int primary key, City varchar(50), State_name varchar(50), State varchar(5), Region varchar(30), Division varchar(75))')\n",
    "for i, row in Customerdistrict.iterrows():\n",
    "    sql='INSERT INTO Data225_final_project.Customer_District VALUES (%s,%s,%s,%s,%s,%s)'\n",
    "    mycursor.execute(sql,tuple(row))\n",
    "\n",
    "db.commit()"
   ]
  },
  {
   "cell_type": "code",
   "execution_count": 91,
   "metadata": {},
   "outputs": [],
   "source": [
    "mycursor.execute('CREATE TABLE Data225_final_project.Customer_Loan (LoanID char(20) primary key, AccountID char(20), Amount decimal(10,4), Duration int, Payments int, Status varchar(2), year char(6) , month char (4), day char(4), Fulldate char(20), Location int, Purpose char(50))')\n",
    "for i, row in Customerloan.iterrows():\n",
    "    sql='INSERT INTO Data225_final_project.Customer_Loan VALUES (%s,%s,%s,%s,%s,%s,%s,%s,%s,%s,%s,%s)'\n",
    "    mycursor.execute(sql,tuple(row))\n",
    "\n",
    "db.commit()"
   ]
  },
  {
   "cell_type": "code",
   "execution_count": 93,
   "metadata": {},
   "outputs": [],
   "source": [
    "mycursor.execute('CREATE TABLE Data225_final_project.Customer_order (OrderID int primary key, AccountID char(20), Bank varchar(3), Account_to int, Amount decimal(10,4), K_Symbol varchar(50))')\n",
    "for i, row in Customerorder.iterrows():\n",
    "    sql='INSERT INTO Data225_final_project.Customer_order VALUES (%s,%s,%s,%s,%s,%s)'\n",
    "    mycursor.execute(sql,tuple(row))\n",
    "\n",
    "db.commit()"
   ]
  },
  {
   "cell_type": "code",
   "execution_count": 102,
   "metadata": {},
   "outputs": [],
   "source": [
    "mycursor.execute('CREATE TABLE Data225_final_project.Customer_Transaction (SerialNumber int, Trans_id char(50), AccountID char(50), Type varchar(50), operation char(50), Amount decimal(12,4), Balance decimal(12,4), k_symbol char(50), bank char(50), account char(20), year char(6) , month char (4), day char(4),  Fulldate char(20), Fulltime char(50), fulldatewithtime char(75))')\n",
    "db.commit()\n"
   ]
  },
  {
   "cell_type": "code",
   "execution_count": 103,
   "metadata": {},
   "outputs": [],
   "source": [
    "for i, row in Customertransaction.iterrows():\n",
    "    sql='INSERT INTO Data225_final_project.Customer_Transaction VALUES (%s,%s,%s,%s,%s,%s,%s,%s,%s,%s,%s,%s,%s,%s,%s,%s)'\n",
    "    mycursor.execute(sql,tuple(row))\n",
    "db.commit()\n",
    "    "
   ]
  },
  {
   "cell_type": "code",
   "execution_count": 5,
   "metadata": {},
   "outputs": [],
   "source": [
    "mycursor.execute('CREATE TABLE Data225_final_project.Time_Zone (State_Time_Zone_ID int primary key, State varchar(50), Time_Zone char(75))')\n",
    "for i, row in TimeZone.iterrows():\n",
    "    sql='INSERT INTO Data225_final_project.Time_Zone VALUES (%s,%s,%s)'\n",
    "    mycursor.execute(sql,tuple(row))\n",
    "\n",
    "db.commit()\n",
    "\n",
    "mycursor.execute('CREATE TABLE Data225_final_project.Time_Difference (time_zone_1 varchar(50), time_zone_2 varchar(50), min_diff int)')\n",
    "for i, row in Time_Diff.iterrows():\n",
    "    sql='INSERT INTO Data225_final_project.Time_Difference VALUES (%s,%s,%s)'\n",
    "    mycursor.execute(sql,tuple(row))"
   ]
  },
  {
   "cell_type": "code",
   "execution_count": 6,
   "metadata": {},
   "outputs": [],
   "source": [
    "db.commit()"
   ]
  },
  {
   "cell_type": "code",
   "execution_count": null,
   "metadata": {},
   "outputs": [],
   "source": []
  },
  {
   "cell_type": "code",
   "execution_count": null,
   "metadata": {},
   "outputs": [],
   "source": []
  }
 ],
 "metadata": {
  "kernelspec": {
   "display_name": "Python 3",
   "language": "python",
   "name": "python3"
  },
  "language_info": {
   "codemirror_mode": {
    "name": "ipython",
    "version": 3
   },
   "file_extension": ".py",
   "mimetype": "text/x-python",
   "name": "python",
   "nbconvert_exporter": "python",
   "pygments_lexer": "ipython3",
   "version": "3.8.3"
  }
 },
 "nbformat": 4,
 "nbformat_minor": 4
}
